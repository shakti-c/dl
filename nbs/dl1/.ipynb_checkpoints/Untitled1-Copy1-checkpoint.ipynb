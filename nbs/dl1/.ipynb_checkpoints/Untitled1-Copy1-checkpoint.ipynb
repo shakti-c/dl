{
 "cells": [
  {
   "cell_type": "code",
   "execution_count": null,
   "metadata": {},
   "outputs": [],
   "source": [
    "# Python module to randomly download images "
   ]
  },
  {
   "cell_type": "code",
   "execution_count": 1,
   "metadata": {},
   "outputs": [],
   "source": [
    "from fastai.vision import *"
   ]
  },
  {
   "cell_type": "code",
   "execution_count": null,
   "metadata": {},
   "outputs": [
    {
     "name": "stdout",
     "output_type": "stream",
     "text": [
      "Error http://voice.uuphost.org/files/u1/2008_sept/berger0721.gif HTTPConnectionPool(host='voice.uuphost.org', port=80): Max retries exceeded with url: /files/u1/2008_sept/berger0721.gif (Caused by NewConnectionError('<urllib3.connection.HTTPConnection object at 0x7f153002f0f0>: Failed to establish a new connection: [Errno -2] Name or service not known'))\n",
      "Error http://sarahjanetravel.com/web_images/nick_nack_thumb_2.gif HTTPConnectionPool(host='sarahjanetravel.com', port=80): Max retries exceeded with url: /web_images/nick_nack_thumb_2.gif (Caused by NewConnectionError('<urllib3.connection.HTTPConnection object at 0x7f1530035e80>: Failed to establish a new connection: [Errno -2] Name or service not known'))\n",
      "Error http://www.exposay.com/celebrity-photos2/stand-up-comedian-george-carlin-dies-0Aq.jpg HTTPConnectionPool(host='www.exposay.com', port=80): Max retries exceeded with url: /celebrity-photos2/stand-up-comedian-george-carlin-dies-0Aq.jpg (Caused by NewConnectionError('<urllib3.connection.HTTPConnection object at 0x7f153002fdd8>: Failed to establish a new connection: [Errno -2] Name or service not known'))\n",
      "Error http://www.appenzeller-sennenhund.si/photo/p/dn42.jpg HTTPConnectionPool(host='www.appenzeller-sennenhund.si', port=80): Max retries exceeded with url: /photo/p/dn42.jpg (Caused by NewConnectionError('<urllib3.connection.HTTPConnection object at 0x7f1530021b00>: Failed to establish a new connection: [Errno -2] Name or service not known'))\n",
      "Error http://www.carbonewindows.com/images/bow.jpg HTTPConnectionPool(host='www.carbonewindows.com', port=80): Max retries exceeded with url: /images/bow.jpg (Caused by NewConnectionError('<urllib3.connection.HTTPConnection object at 0x7f153002f198>: Failed to establish a new connection: [Errno -2] Name or service not known'))\n"
     ]
    },
    {
     "data": {
      "text/html": [
       "\n",
       "    <div>\n",
       "        <style>\n",
       "            /* Turns off some styling */\n",
       "            progress {\n",
       "                /* gets rid of default border in Firefox and Opera. */\n",
       "                border: none;\n",
       "                /* Needs to be in here for Safari polyfill so background images work as expected. */\n",
       "                background-size: auto;\n",
       "            }\n",
       "            .progress-bar-interrupted, .progress-bar-interrupted::-webkit-progress-bar {\n",
       "                background: #F44336;\n",
       "            }\n",
       "        </style>\n",
       "      <progress value='351' class='' max='50000', style='width:300px; height:20px; vertical-align: middle;'></progress>\n",
       "      0.70% [351/50000 01:13<2:53:17]\n",
       "    </div>\n",
       "    "
      ],
      "text/plain": [
       "<IPython.core.display.HTML object>"
      ]
     },
     "metadata": {},
     "output_type": "display_data"
    },
    {
     "name": "stdout",
     "output_type": "stream",
     "text": [
      "Error http://images.wwbw.com/products/thumbs/LP/132907t.jpg HTTPConnectionPool(host='images.wwbw.com', port=80): Max retries exceeded with url: /products/thumbs/LP/132907t.jpg (Caused by NewConnectionError('<urllib3.connection.HTTPConnection object at 0x7f15a81e1978>: Failed to establish a new connection: [Errno -2] Name or service not known'))\n",
      "Error http://www.biodiversityexplorer.org/birds/accipitridae/images/2067927495_97a0b2157a_431h.jpg HTTPConnectionPool(host='www.biodiversityexplorer.org', port=80): Max retries exceeded with url: /birds/accipitridae/images/2067927495_97a0b2157a_431h.jpg (Caused by NewConnectionError('<urllib3.connection.HTTPConnection object at 0x7f15300341d0>: Failed to establish a new connection: [Errno 111] Connection refused'))\n",
      "Error http://www.carversknife.com/wp-content/uploads/Axe%20Hatchet_4.jpg HTTPConnectionPool(host='www.carversknife.com', port=80): Max retries exceeded with url: /wp-content/uploads/Axe%20Hatchet_4.jpg (Caused by ProtocolError('Connection aborted.', RemoteDisconnected('Remote end closed connection without response')))\n",
      "Error http://www.thehumanconnection.net/images/Safe%20and%20Effective.JPG HTTPConnectionPool(host='www.thehumanconnection.net', port=80): Max retries exceeded with url: /images/Safe%20and%20Effective.JPG (Caused by NewConnectionError('<urllib3.connection.HTTPConnection object at 0x7f1530034550>: Failed to establish a new connection: [Errno -2] Name or service not known'))\n",
      "Error http://bostonmassage.net/common/imagelib/index.htm/9_300_198_crop_97f7b.jpg HTTPConnectionPool(host='bostonmassage.net', port=80): Max retries exceeded with url: /common/imagelib/index.htm/9_300_198_crop_97f7b.jpg (Caused by NewConnectionError('<urllib3.connection.HTTPConnection object at 0x7f1530035be0>: Failed to establish a new connection: [Errno -2] Name or service not known'))\n",
      "Error http://shop.knoxvillejohnny.com/images/1217300376925-365046636.jpeg HTTPConnectionPool(host='shop.knoxvillejohnny.com', port=80): Max retries exceeded with url: /images/1217300376925-365046636.jpeg (Caused by NewConnectionError('<urllib3.connection.HTTPConnection object at 0x7f1530038470>: Failed to establish a new connection: [Errno -2] Name or service not known'))\n",
      "Error http://www.worldofstock.com/slides/TAU2098.jpg Exceeded 30 redirects.\n",
      "Error http://www.mpoweringkids.org/Images/Events/Chain-for-Change/Torres_kids_and_chain_web.jpg HTTPConnectionPool(host='www.mpoweringkids.org', port=80): Max retries exceeded with url: /Images/Events/Chain-for-Change/Torres_kids_and_chain_web.jpg (Caused by NewConnectionError('<urllib3.connection.HTTPConnection object at 0x7f1530038a90>: Failed to establish a new connection: [Errno -2] Name or service not known'))\n",
      "Error http://www.sierradesegura.com/patr_natural/bio/fauna/imag/murciel.jpg HTTPConnectionPool(host='www.sierradesegura.com', port=80): Max retries exceeded with url: /patr_natural/bio/fauna/imag/murciel.jpg (Caused by ProtocolError('Connection aborted.', RemoteDisconnected('Remote end closed connection without response')))\n",
      "Error http://www.severnparkmerinos.com.au/images/ram.jpg HTTPConnectionPool(host='www.severnparkmerinos.com.au', port=80): Max retries exceeded with url: /images/ram.jpg (Caused by NewConnectionError('<urllib3.connection.HTTPConnection object at 0x7f151ee4ccf8>: Failed to establish a new connection: [Errno -2] Name or service not known'))\n",
      "Error http://images.dailyradar.com/media/uploads/mma/story_preview/2009/07/07/tim_credeur_and_nate_quarry_set_for_mi HTTPConnectionPool(host='images.dailyradar.com', port=80): Max retries exceeded with url: /media/uploads/mma/story_preview/2009/07/07/tim_credeur_and_nate_quarry_set_for_mi (Caused by NewConnectionError('<urllib3.connection.HTTPConnection object at 0x7f15300387f0>: Failed to establish a new connection: [Errno -2] Name or service not known'))\n",
      "Error http://www1.istockphoto.com/file_thumbview_approve/4023479/2/istockphoto_4023479-garden-trowel-and-soil.jpg HTTPConnectionPool(host='www1.istockphoto.com', port=80): Max retries exceeded with url: /file_thumbview_approve/4023479/2/istockphoto_4023479-garden-trowel-and-soil.jpg (Caused by NewConnectionError('<urllib3.connection.HTTPConnection object at 0x7f1530035a90>: Failed to establish a new connection: [Errno -2] Name or service not known'))\n",
      "Error https://shop.therainforestsite.com/store/product/image_200/34183.gif HTTPSConnectionPool(host='shop.therainforestsite.com', port=443): Max retries exceeded with url: /store/product/image_200/34183.gif (Caused by SSLError(SSLCertVerificationError(\"hostname 'shop.therainforestsite.com' doesn't match either of '*.greatergood.com', 'greatergood.com'\")))\n",
      "Error http://bbs-files10.iyaya.com/20071202/20071202011712-8929.jpg HTTPConnectionPool(host='bbs-files10.iyaya.com', port=80): Max retries exceeded with url: /20071202/20071202011712-8929.jpg (Caused by NewConnectionError('<urllib3.connection.HTTPConnection object at 0x7f151ff40208>: Failed to establish a new connection: [Errno -2] Name or service not known'))\n",
      "Error http://s2.thisnext.com/media/160x160/889301D5-multi-func-yellow.jpg HTTPConnectionPool(host='s2.thisnext.com', port=80): Max retries exceeded with url: /media/160x160/889301D5-multi-func-yellow.jpg (Caused by NewConnectionError('<urllib3.connection.HTTPConnection object at 0x7f153003dbe0>: Failed to establish a new connection: [Errno -2] Name or service not known'))\n",
      "Error http://www.dcr.virginia.gov/natural_heritage/images/PIb_photo1_500.JPG HTTPConnectionPool(host='www.dcr.virginia.gov', port=80): Max retries exceeded with url: /natural_heritage/images/PIb_photo1_500.JPG (Caused by ConnectTimeoutError(<urllib3.connection.HTTPConnection object at 0x7f15300416a0>, 'Connection to www.dcr.virginia.gov timed out. (connect timeout=4)'))\n",
      "Error http://img3.photographersdirect.com/img/13665/wm/pd2346698.jpg HTTPConnectionPool(host='img3.photographersdirect.com', port=80): Max retries exceeded with url: /img/13665/wm/pd2346698.jpg (Caused by NewConnectionError('<urllib3.connection.HTTPConnection object at 0x7f1530031c88>: Failed to establish a new connection: [Errno -2] Name or service not known'))\n",
      "Error http://www.daveluzader.com/album/slides/Trillium%20FoamFlower%20cucumber_2060.jpg HTTPConnectionPool(host='www.daveluzader.com', port=80): Max retries exceeded with url: /album/slides/Trillium%20FoamFlower%20cucumber_2060.jpg (Caused by NewConnectionError('<urllib3.connection.HTTPConnection object at 0x7f15390d90b8>: Failed to establish a new connection: [Errno -2] Name or service not known'))\n",
      "Error http://www.plantes-botanique.be/syst/tax/Sarraceniaceae/sarrpur1.jpg HTTPConnectionPool(host='www.plantes-botanique.be', port=80): Max retries exceeded with url: /syst/tax/Sarraceniaceae/sarrpur1.jpg (Caused by NewConnectionError('<urllib3.connection.HTTPConnection object at 0x7f1530031ba8>: Failed to establish a new connection: [Errno -2] Name or service not known'))\n",
      "Error http://www.penntheta.com/pic/Ren%20Pictures/peaceful-war-room.jpg HTTPConnectionPool(host='www.penntheta.com', port=80): Max retries exceeded with url: /pic/Ren%20Pictures/peaceful-war-room.jpg (Caused by NewConnectionError('<urllib3.connection.HTTPConnection object at 0x7f1530035550>: Failed to establish a new connection: [Errno -2] Name or service not known'))\n",
      "Error http://www8.babidou.com/pic/2007/7/3/foreverlylj/素材/replay%20白短裤/k.jpg HTTPConnectionPool(host='www8.babidou.com', port=80): Max retries exceeded with url: /pic/2007/7/3/foreverlylj/%E7%B4%A0%E6%9D%90/replay%20%E7%99%BD%E7%9F%AD%E8%A3%A4/k.jpg (Caused by NewConnectionError('<urllib3.connection.HTTPConnection object at 0x7f151ff40208>: Failed to establish a new connection: [Errno -2] Name or service not known'))\n",
      "Error http://centralpets.com/critter_images/reptiles/snakes/SNK_0002746_20011225120946.jpg HTTPConnectionPool(host='centralpets.com', port=80): Max retries exceeded with url: /critter_images/reptiles/snakes/SNK_0002746_20011225120946.jpg (Caused by ConnectTimeoutError(<urllib3.connection.HTTPConnection object at 0x7f153003d0f0>, 'Connection to centralpets.com timed out. (connect timeout=4)'))\n",
      "Error http://www.stefanitadio.com/uploaded_images/07-02-06_Fern-744393.jpg HTTPConnectionPool(host='www.stefanitadio.com', port=80): Max retries exceeded with url: /uploaded_images/07-02-06_Fern-744393.jpg (Caused by NewConnectionError('<urllib3.connection.HTTPConnection object at 0x7f1530035b00>: Failed to establish a new connection: [Errno -2] Name or service not known'))\n"
     ]
    },
    {
     "name": "stdout",
     "output_type": "stream",
     "text": [
      "Error http://www.tsxue.com/article/UploadPic/2007-3/200732621492127314.jpg HTTPConnectionPool(host='www.tsxue.com', port=80): Max retries exceeded with url: /article/UploadPic/2007-3/200732621492127314.jpg (Caused by NewConnectionError('<urllib3.connection.HTTPConnection object at 0x7f1530035a90>: Failed to establish a new connection: [Errno -2] Name or service not known'))\n",
      "Error http://www.mushroom.gov.cn/shiitake/146-1.jpg HTTPConnectionPool(host='www.mushroom.gov.cn', port=80): Max retries exceeded with url: /shiitake/146-1.jpg (Caused by NewConnectionError('<urllib3.connection.HTTPConnection object at 0x7f1530034d30>: Failed to establish a new connection: [Errno -2] Name or service not known'))\n",
      "Error http://www.plants4nh.com/Pix/Plant166Sm.gif HTTPConnectionPool(host='www.plants4nh.com', port=80): Max retries exceeded with url: /Pix/Plant166Sm.gif (Caused by NewConnectionError('<urllib3.connection.HTTPConnection object at 0x7f15300346a0>: Failed to establish a new connection: [Errno -2] Name or service not known'))\n"
     ]
    }
   ],
   "source": [
    "download_images('no_food_urls.txt', './no_food_images', max_pics=50000)"
   ]
  },
  {
   "cell_type": "code",
   "execution_count": null,
   "metadata": {},
   "outputs": [],
   "source": []
  }
 ],
 "metadata": {
  "kernelspec": {
   "display_name": "Python 3",
   "language": "python",
   "name": "python3"
  },
  "language_info": {
   "codemirror_mode": {
    "name": "ipython",
    "version": 3
   },
   "file_extension": ".py",
   "mimetype": "text/x-python",
   "name": "python",
   "nbconvert_exporter": "python",
   "pygments_lexer": "ipython3",
   "version": "3.7.3"
  }
 },
 "nbformat": 4,
 "nbformat_minor": 2
}
